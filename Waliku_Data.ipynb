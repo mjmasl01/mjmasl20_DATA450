{
 "cells": [
  {
   "cell_type": "code",
   "execution_count": 2,
   "metadata": {
    "colab": {
     "base_uri": "https://localhost:8080/"
    },
    "executionInfo": {
     "elapsed": 31637,
     "status": "ok",
     "timestamp": 1715255556914,
     "user": {
      "displayName": "Adarsh Doraswamy",
      "userId": "04882581294557933838"
     },
     "user_tz": 240
    },
    "id": "a2n550C1b2h9",
    "outputId": "a54ec08f-61f8-4c35-fcf8-6e9f585dddb6"
   },
   "outputs": [
    {
     "ename": "ModuleNotFoundError",
     "evalue": "No module named 'google.colab'",
     "output_type": "error",
     "traceback": [
      "\u001b[0;31m---------------------------------------------------------------------------\u001b[0m",
      "\u001b[0;31mModuleNotFoundError\u001b[0m                       Traceback (most recent call last)",
      "Cell \u001b[0;32mIn[2], line 1\u001b[0m\n\u001b[0;32m----> 1\u001b[0m \u001b[38;5;28;01mfrom\u001b[39;00m \u001b[38;5;21;01mgoogle\u001b[39;00m\u001b[38;5;21;01m.\u001b[39;00m\u001b[38;5;21;01mcolab\u001b[39;00m \u001b[38;5;28;01mimport\u001b[39;00m drive\n\u001b[1;32m      2\u001b[0m drive\u001b[38;5;241m.\u001b[39mmount(\u001b[38;5;124m'\u001b[39m\u001b[38;5;124m/content/drive\u001b[39m\u001b[38;5;124m'\u001b[39m)\n",
      "\u001b[0;31mModuleNotFoundError\u001b[0m: No module named 'google.colab'"
     ]
    }
   ],
   "source": [
    "from google.colab import drive\n",
    "drive.mount('/content/drive')"
   ]
  },
  {
   "cell_type": "code",
   "execution_count": null,
   "metadata": {},
   "outputs": [],
   "source": [
    "!pip install scikit-learn"
   ]
  },
  {
   "cell_type": "code",
   "execution_count": null,
   "metadata": {},
   "outputs": [],
   "source": [
    "!pip install seaborn"
   ]
  },
  {
   "cell_type": "code",
   "execution_count": null,
   "metadata": {},
   "outputs": [],
   "source": [
    "!pip install torch"
   ]
  },
  {
   "cell_type": "code",
   "execution_count": null,
   "metadata": {},
   "outputs": [],
   "source": [
    "import pandas as pd\n",
    "pd.set_option('display.max_columns', None)"
   ]
  },
  {
   "cell_type": "code",
   "execution_count": null,
   "metadata": {},
   "outputs": [],
   "source": [
    "import numpy as np\n",
    "import plotly.express as px\n",
    "import plotly.graph_objects as go"
   ]
  },
  {
   "cell_type": "code",
   "execution_count": null,
   "metadata": {},
   "outputs": [],
   "source": [
    "from sklearn.preprocessing import LabelEncoder"
   ]
  },
  {
   "cell_type": "code",
   "execution_count": null,
   "metadata": {},
   "outputs": [],
   "source": [
    "from sklearn.linear_model import LogisticRegression\n",
    "from sklearn.ensemble import RandomForestClassifier\n",
    "from sklearn.model_selection import train_test_split\n",
    "from sklearn.metrics import accuracy_score"
   ]
  },
  {
   "cell_type": "code",
   "execution_count": null,
   "metadata": {
    "executionInfo": {
     "elapsed": 9800,
     "status": "ok",
     "timestamp": 1715255566710,
     "user": {
      "displayName": "Adarsh Doraswamy",
      "userId": "04882581294557933838"
     },
     "user_tz": 240
    },
    "id": "x9oLgYGEPila"
   },
   "outputs": [],
   "source": [
    "\n",
    "import torch\n",
    "import torch.nn as nn\n",
    "import torch.optim as optim\n",
    "from sklearn.preprocessing import StandardScaler\n",
    "from sklearn.metrics import confusion_matrix\n",
    "from sklearn.tree import plot_tree\n",
    "import matplotlib.pyplot as plt\n",
    "import seaborn as sns\n",
    "import math"
   ]
  },
  {
   "cell_type": "code",
   "execution_count": null,
   "metadata": {
    "colab": {
     "base_uri": "https://localhost:8080/"
    },
    "id": "vZmxc5Wkdde_",
    "outputId": "a0dda210-5ca7-46d4-c6b5-e5667f041667"
   },
   "outputs": [],
   "source": [
    "\n",
    "def import_excel(file_path):\n",
    "  # Load the Excel file\n",
    "  xls = pd.ExcelFile(file_path)\n",
    "\n",
    "  # Create a dictionary to store DataFrames\n",
    "  dataframe = {}\n",
    "\n",
    "  # Iterate through each sheet in the Excel file\n",
    "  for sheet_name in xls.sheet_names:\n",
    "      # Read each sheet into a DataFrame\n",
    "      df = pd.read_excel(file_path, sheet_name=sheet_name)\n",
    "      # Store the DataFrame with the sheet name as the key in the dictionary\n",
    "      dataframe[sheet_name] = df\n",
    "  return dataframe\n",
    "\n",
    "# Now you have a dictionary where each key is the sheet name, and the value is the corresponding DataFrame\n",
    "# For example, to access the DataFrame for the sheet named 'Sheet1':\n",
    "\n",
    "df_phil = import_excel(r'c:\\Users\\phil_portal_data.xlsx')\n",
    "print(\"df_phil sheets \" + str(df_phil.keys()))\n",
    "df_uganda = import_excel(r'c:\\Users\\uganda_portal_data.xlsx')\n",
    "print(\"df_uganda sheets \" + str(df_uganda.keys()))\n",
    "df_nigeria = import_excel(r'c:\\Users\\nigeria_portal_data.xlsx')\n",
    "print(\"df_nigeria sheets \" + str(df_nigeria.keys()))\n",
    "df_malawi = import_excel(r'c:\\Users\\malawi_portal_data.xlsx')\n",
    "print(\"df_malawi sheets \" + str(df_malawi.keys()))\n",
    "\n",
    "# loop through the dictionary and convert to dataframe\n",
    "\n"
   ]
  },
  {
   "cell_type": "code",
   "execution_count": null,
   "metadata": {
    "id": "W_0Xx2hAe0S7"
   },
   "outputs": [],
   "source": [
    "df_malawi.keys()"
   ]
  },
  {
   "cell_type": "code",
   "execution_count": null,
   "metadata": {
    "id": "gVrK0OAMGIKC"
   },
   "outputs": [],
   "source": [
    "df_uganda['ug_fact_numeracy_result'].head(100)"
   ]
  },
  {
   "cell_type": "markdown",
   "metadata": {
    "id": "08W20I-sYCju"
   },
   "source": [
    "Comparing the availible columns and tables between dfs\n",
    "\n",
    "Availible Tables(tables might have slightly differnt based on country):\n",
    "\n",
    "'_fact_reading_result'\n",
    "\n",
    "'_fact_student_registrations'\n",
    "\n",
    "'_fact_student_attendance'\n",
    "\n",
    "'_fact_schools'\n",
    "\n",
    "'_fact_classes'\n",
    "\n",
    "'_dim_students'\n",
    "\n",
    "\n",
    "Extra tables:\n",
    "\n",
    "Uganda: 'ug_fact_numeracy_result'\n",
    "\n",
    "Nigeria: '_fact_student_reporting_rate'"
   ]
  },
  {
   "cell_type": "code",
   "execution_count": null,
   "metadata": {
    "id": "lZjp_SoSYB5a"
   },
   "outputs": [],
   "source": [
    "def compare_dfs(*dfs):\n",
    "    # List to store common columns\n",
    "    common_columns = None\n",
    "\n",
    "    # Dictionary to store non-common columns for each DataFrame\n",
    "    non_common_columns = {}\n",
    "\n",
    "    # Iterate through each DataFrame\n",
    "    for idx, df in enumerate(dfs):\n",
    "        # If it's the first DataFrame, initialize common_columns with its columns\n",
    "        if idx == 0:\n",
    "            common_columns = set(df.columns)\n",
    "        else:\n",
    "            # Find the intersection of common columns and the columns of the current DataFrame\n",
    "            common_columns &= set(df.columns)\n",
    "\n",
    "        # Find the non-common columns for the current DataFrame\n",
    "        non_common = set(df.columns) - common_columns\n",
    "        #non_common_columns[f'df_{idx+1}'] = list(non_common)\n",
    "        non_common_columns[f'{idx+1}'] = list(non_common)\n",
    "\n",
    "    return list(common_columns), non_common_columns\n",
    "\n",
    "# Example usage:\n",
    "# Assuming df1, df2, and df3 are your pandas DataFrames\n",
    "# common_cols, non_common_cols = compare_dfs(df1, df2, df3)\n",
    "# print(\"Common Columns:\", common_cols)\n",
    "# print(\"Non-Common Columns:\")\n",
    "# for df_name, cols in non_common_cols.items():\n",
    "#     print(f\"DataFrame {df_name}: {cols}\")\n"
   ]
  },
  {
   "cell_type": "code",
   "execution_count": null,
   "metadata": {
    "id": "OggHlln7YKv0"
   },
   "outputs": [],
   "source": [
    "dim_students_common_cols, dim_students_non_common_cols = compare_dfs(df_phil['_dim_students'],df_uganda['ug_dim_students'],df_nigeria['_dim_students'],df_malawi['_dim_students'])"
   ]
  },
  {
   "cell_type": "code",
   "execution_count": null,
   "metadata": {
    "id": "JRDED6L0iwME"
   },
   "outputs": [],
   "source": [
    "check = df_malawi['_dim_students']\n",
    "check = check[check['Special_Needs'].notnull()]\n",
    "df_malawi['_dim_students'].head()\n"
   ]
  },
  {
   "cell_type": "code",
   "execution_count": null,
   "metadata": {
    "id": "OBhAxLzPZZJZ"
   },
   "outputs": [],
   "source": [
    "dim_students_common_cols"
   ]
  },
  {
   "cell_type": "code",
   "execution_count": null,
   "metadata": {
    "id": "xvUQluRtZaBh"
   },
   "outputs": [],
   "source": [
    "dim_students_non_common_cols"
   ]
  },
  {
   "cell_type": "markdown",
   "metadata": {
    "id": "4t_1MWNyjfL6"
   },
   "source": [
    "Exploration:\n",
    "\n",
    "\"Special Needs\" colum is an integer in ug only null in every other country what does the integer mean"
   ]
  },
  {
   "cell_type": "code",
   "execution_count": null,
   "metadata": {
    "id": "4zIHNlBditYf"
   },
   "outputs": [],
   "source": []
  },
  {
   "cell_type": "code",
   "execution_count": null,
   "metadata": {
    "id": "s1zc7uIfczYY"
   },
   "outputs": [],
   "source": [
    "fact_reading_result_common_cols, fact_reading_result_non_common_cols = compare_dfs(df_phil['_fact_reading_result'],df_uganda['ug_fact_reading_result'],df_nigeria['_fact_reading_result'],df_malawi['_fact_reading_result'])"
   ]
  },
  {
   "cell_type": "code",
   "execution_count": null,
   "metadata": {
    "id": "zv4b0IBF8mrA"
   },
   "outputs": [],
   "source": [
    "df_phil['_fact_reading_result'].head()"
   ]
  },
  {
   "cell_type": "code",
   "execution_count": null,
   "metadata": {
    "id": "pI8EO-teeS51"
   },
   "outputs": [],
   "source": [
    "fact_reading_result_common_cols"
   ]
  },
  {
   "cell_type": "code",
   "execution_count": null,
   "metadata": {
    "id": "_xwN7bmweVG-"
   },
   "outputs": [],
   "source": [
    "fact_reading_result_non_common_cols"
   ]
  },
  {
   "cell_type": "code",
   "execution_count": null,
   "metadata": {
    "id": "ilpOmzjQeYU7"
   },
   "outputs": [],
   "source": [
    "fact_student_registrations_common_cols, fact_student_registrations_non_common_cols = compare_dfs(df_phil['_fact_student_registrations'],df_uganda['ug_fact_student_registrations'],df_nigeria['_fact_student_registrations'],df_malawi['_fact_student_registrations'])"
   ]
  },
  {
   "cell_type": "code",
   "execution_count": null,
   "metadata": {
    "id": "B6WSn8UIgTzi"
   },
   "outputs": [],
   "source": [
    "fact_student_registrations_common_cols"
   ]
  },
  {
   "cell_type": "code",
   "execution_count": null,
   "metadata": {
    "id": "GoN1rHUegT1q"
   },
   "outputs": [],
   "source": [
    "fact_student_registrations_non_common_cols"
   ]
  },
  {
   "cell_type": "code",
   "execution_count": null,
   "metadata": {
    "id": "vzGLQVd9eYXQ"
   },
   "outputs": [],
   "source": [
    "fact_student_attendance_common_cols, fact_student_attendance_non_common_cols = compare_dfs(df_phil['_fact_student_attendance'],df_uganda['ug_fact_student_attendance'],df_nigeria['_fact_student_attendance'],df_malawi['_fact_student_attendance'])"
   ]
  },
  {
   "cell_type": "code",
   "execution_count": null,
   "metadata": {
    "id": "oSIFPbsur1si"
   },
   "outputs": [],
   "source": [
    "df_phil['_fact_student_attendance']"
   ]
  },
  {
   "cell_type": "code",
   "execution_count": null,
   "metadata": {
    "id": "S6d8w828gfeZ"
   },
   "outputs": [],
   "source": [
    "fact_student_attendance_common_cols"
   ]
  },
  {
   "cell_type": "code",
   "execution_count": null,
   "metadata": {
    "id": "DDrP-_l8gfhE"
   },
   "outputs": [],
   "source": [
    "fact_student_attendance_non_common_cols"
   ]
  },
  {
   "cell_type": "code",
   "execution_count": null,
   "metadata": {
    "id": "qi22Yot1eYZj"
   },
   "outputs": [],
   "source": [
    "fact_schools_common_cols, fact_schools_non_common_cols = compare_dfs(df_phil['_fact_schools'],df_uganda['ug_dim_schools'],df_nigeria['_fact_schools'],df_malawi['_dim_schools'])"
   ]
  },
  {
   "cell_type": "code",
   "execution_count": null,
   "metadata": {
    "id": "h9HASlhBghuO"
   },
   "outputs": [],
   "source": [
    "fact_schools_common_cols"
   ]
  },
  {
   "cell_type": "code",
   "execution_count": null,
   "metadata": {
    "id": "QNuBqGtlghwU"
   },
   "outputs": [],
   "source": [
    "fact_schools_non_common_cols"
   ]
  },
  {
   "cell_type": "code",
   "execution_count": null,
   "metadata": {
    "id": "n5RMjWVgeYbw"
   },
   "outputs": [],
   "source": [
    "fact_classes_common_cols, fact_classes_non_common_cols = compare_dfs(df_phil['_fact_classes'],df_uganda['ug_fact_classes'],df_nigeria['_fact_classes'],df_malawi['_dim_classes'])"
   ]
  },
  {
   "cell_type": "code",
   "execution_count": null,
   "metadata": {
    "id": "IO6a_Ju7eYd_"
   },
   "outputs": [],
   "source": [
    "fact_classes_common_cols"
   ]
  },
  {
   "cell_type": "code",
   "execution_count": null,
   "metadata": {
    "id": "AWPG4rJGeYhQ"
   },
   "outputs": [],
   "source": [
    "fact_classes_non_common_cols"
   ]
  },
  {
   "cell_type": "code",
   "execution_count": null,
   "metadata": {
    "id": "9tQL14h8tddL"
   },
   "outputs": [],
   "source": []
  },
  {
   "cell_type": "code",
   "execution_count": null,
   "metadata": {
    "id": "NmWmwiaLiP2d"
   },
   "outputs": [],
   "source": [
    "def PrepData(df_students,df_reading_result,df_student_registrations,df_student_attendance,country_identifier):\n",
    "  #clean and trim\n",
    "  df_students = df_students[['ChildrenId','AgeCal','Gender','ParentType','DateOfBirth']]\n",
    "  df_student_registrations = df_student_registrations[['ChildrenId','Grade']]\n",
    "  df_reading_result = df_reading_result[['ChildrenId','ResultBaseline',\"ResultRound1\",\"ResultRound2\",\"ResultRound3\",\"ResultEndline\"]]\n",
    "  print(df_students.head())\n",
    "\n",
    "  #attendance cols\n",
    "  #total attendance rate\n",
    "  attendance_rate = df_student_attendance.groupby('ChildrenId')['StudentIsPresent'].mean().reset_index()\n",
    "  attendance_rate.rename(columns={'StudentIsPresent': 'AttendanceRate'}, inplace=True)\n",
    "  #attendance rate at midpoint\n",
    "  attendance_rate_at_midpoint = df_student_attendance.copy()\n",
    "  attendance_rate_at_midpoint['midpoint_date'] = attendance_rate_at_midpoint.apply(lambda row: row['AcademicYearStartDate'] + (row['AcademicYearEndtDate'] - row['AcademicYearStartDate']) / 2, axis=1)\n",
    "  attendance_rate_at_midpoint['StudentAttendanceDate'] = pd.to_datetime(attendance_rate_at_midpoint['StudentAttendanceDate'])\n",
    "  attendance_rate_at_midpoint = attendance_rate_at_midpoint[attendance_rate_at_midpoint['StudentAttendanceDate'] <= attendance_rate_at_midpoint['midpoint_date']]\n",
    "  attendance_rate_at_midpoint = attendance_rate_at_midpoint.groupby('ChildrenId')['StudentIsPresent'].mean().reset_index()\n",
    "  attendance_rate_at_midpoint.rename(columns={'StudentIsPresent': 'AttendanceRateMidpoint'}, inplace=True)\n",
    "\n",
    "\n",
    "\n",
    "\n",
    "\n",
    "  #merge\n",
    "  df_students = pd.merge(df_students, df_student_registrations, on='ChildrenId', how='left')\n",
    "  df_students = pd.merge(df_students, df_reading_result, on='ChildrenId', how='left')\n",
    "  df_students = pd.merge(df_students, attendance_rate, on='ChildrenId', how='left')\n",
    "  df_students = pd.merge(df_students, attendance_rate_at_midpoint, on='ChildrenId', how='left')\n",
    "\n",
    "  #prep\n",
    "\n",
    "  #test result cols\n",
    "  df_students[['ResultBaseline',\"ResultRound1\",\"ResultRound2\",\"ResultRound3\",\"ResultEndline\"]] = df_students[['ResultBaseline',\"ResultRound1\",\"ResultRound2\",\"ResultRound3\",\"ResultEndline\"]].replace({\"Beginner\": 0.1,\"Letter\": 0.2,\"Word\": 0.3,\"Sentence\": 0.4,\"Story\": 0.5,\"Story with comprehension\": 0.6})\n",
    "  #creating first result col (First non null test val)\n",
    "  df_students['FirstResult'] = df_students['ResultBaseline'].combine_first(df_students['ResultRound1'])\n",
    "  df_students['FirstResult'] = df_students['FirstResult'].combine_first(df_students['ResultRound2'])\n",
    "  df_students['FirstResult'] = df_students['FirstResult'].combine_first(df_students['ResultRound3'])\n",
    "  df_students['FirstResult'] = df_students['FirstResult'].combine_first(df_students['ResultEndline'])\n",
    "  df_students['LastResult'] = df_students['ResultEndline'].combine_first(df_students['ResultRound3'])\n",
    "  #Creating last result col (first non null val going back in time)\n",
    "  df_students['LastResult'] = df_students['LastResult'].combine_first(df_students['ResultRound2'])\n",
    "  df_students['LastResult'] = df_students['LastResult'].combine_first(df_students['ResultRound1'])\n",
    "  df_students['LastResult'] = df_students['LastResult'].combine_first(df_students['ResultBaseline'])\n",
    "  df_students[['FirstResult','LastResult','ResultBaseline',\"ResultRound1\",\"ResultRound2\",\"ResultRound3\",\"ResultEndline\"]] = df_students[['FirstResult','LastResult','ResultBaseline',\"ResultRound1\",\"ResultRound2\",\"ResultRound3\",\"ResultEndline\"]].fillna(0)\n",
    "  df_students['ResultProgress'] = df_students['LastResult'] - df_students['FirstResult']\n",
    "\n",
    "\n",
    "  df_students[\"Gender\"] = df_students[\"Gender\"].replace({'Male' : 0, 'Female' :1,'Unknown' :0.5}).fillna(0.5)\n",
    "  df_students[\"ParentType\"] = df_students[\"ParentType\"].replace({'Father' : 0, 'Mother' :1, 'Guardian': 0.5}).fillna(0.5)\n",
    "  df_students[\"AttendanceRate\"] = df_students[\"AttendanceRate\"].fillna(0)\n",
    "  df_students[\"AttendanceRateMidpoint\"] = df_students[\"AttendanceRateMidpoint\"].fillna(0)\n",
    "  df_students[\"AgeCal\"] = df_students[\"AgeCal\"].fillna(0)\n",
    "\n",
    "  df_students['DateOfBirth'] = pd.to_datetime(df_students['DateOfBirth'])\n",
    "  df_students['DateOfBirth'] = df_students['DateOfBirth'].dt.month.fillna(0)\n",
    "  df_students.rename(columns={'DateOfBirth': 'MonthOfBirth'}, inplace=True)\n",
    "\n",
    "  df_students['Grade'] = df_students['Grade'].str.extract('(\\d+)').fillna(0).astype(int) * 0.1\n",
    "\n",
    "  #make ChildrenID unique\n",
    "  df_students['ChildrenId'] = df_students['ChildrenId'] + (country_identifier*1000000)\n",
    "  print(df_students.head())\n",
    "  return df_students,df_reading_result,df_student_registrations,df_student_attendance,attendance_rate\n"
   ]
  },
  {
   "cell_type": "code",
   "execution_count": null,
   "metadata": {
    "id": "ZOFxcsy1eYj4"
   },
   "outputs": [],
   "source": [
    "#Staging area\n",
    "#phil\n",
    "#df_phil sheets dict_keys(['_fact_reading_result', '_fact_student_registrations', '_fact_student_attendance', '_fact_schools', '_fact_classes', '_dim_students'])\n",
    "#initialize datasets\n",
    "df_phil_students = df_phil['_dim_students']\n",
    "df_phil_reading_result = df_phil['_fact_reading_result']\n",
    "df_phil_student_registrations = df_phil['_fact_student_registrations']\n",
    "df_phil_student_registrations.rename(columns={'ChildID': 'ChildrenId'}, inplace=True)\n",
    "df_phil_student_attendance = df_phil['_fact_student_attendance']\n",
    "\n",
    "df_phil_students,df_phil_reading_result,df_phil_student_registrations,df_phil_student_attendance,df_phil_attendance_rate = PrepData(df_phil_students,df_phil_reading_result,df_phil_student_registrations,df_phil_student_attendance,1)\n",
    "\n",
    "#uganda\n",
    "#df_uganda sheets dict_keys(['ug_fact_reading_result', 'ug_fact_student_registrations', 'ug_fact_student_attendance', 'ug_dim_students', 'ug_dim_schools', 'ug_fact_classes', 'ug_fact_numeracy_result'])\n",
    "df_uganda_students = df_uganda['ug_dim_students']\n",
    "df_uganda_reading_result = df_uganda['ug_fact_reading_result']\n",
    "df_uganda_student_registrations = df_uganda['ug_fact_student_registrations']\n",
    "df_uganda_student_registrations.rename(columns={'ChildID': 'ChildrenId'}, inplace=True)\n",
    "df_uganda_student_attendance = df_uganda['ug_fact_student_attendance']\n",
    "\n",
    "df_uganda_students,df_uganda_reading_result,df_uganda_student_registrations,df_uganda_student_attendance,df_uganda_attendance_rate = PrepData(df_uganda_students,df_uganda_reading_result,df_uganda_student_registrations,df_uganda_student_attendance,2)\n",
    "\n",
    "#nigeria\n",
    "#df_nigeria sheets dict_keys(['_fact_student_attendance', '_fact_schools', '_fact_classes', '_dim_students', '_fact_reading_result', '_fact_student_reporting_rate', '_fact_student_registrations'])\n",
    "df_nigeria_students = df_nigeria['_dim_students']\n",
    "df_nigeria_reading_result = df_nigeria['_fact_reading_result']\n",
    "df_nigeria_student_registrations = df_nigeria['_fact_student_registrations']\n",
    "df_nigeria_student_registrations.rename(columns={'ChildID': 'ChildrenId'}, inplace=True)\n",
    "df_nigeria_student_attendance = df_nigeria['_fact_student_attendance']\n",
    "\n",
    "df_nigeria_students,df_nigeria_reading_result,df_nigeria_student_registrations,df_nigeria_student_attendance,df_nigeria_attendance_rate = PrepData(df_nigeria_students,df_nigeria_reading_result,df_nigeria_student_registrations,df_nigeria_student_attendance,3)\n",
    "\n",
    "#malawi\n",
    "#df_malawi sheets dict_keys(['_fact_reading_result', '_fact_student_attendance', '_fact_student_registrations', '_dim_students', '_dim_schools', '_dim_classes'])\n",
    "\n",
    "df_malawi_students = df_malawi['_dim_students']\n",
    "df_malawi_reading_result = df_malawi['_fact_reading_result']\n",
    "df_malawi_student_registrations = df_malawi['_fact_student_registrations']\n",
    "df_malawi_student_registrations.rename(columns={'ChildID': 'ChildrenId'}, inplace=True)\n",
    "df_malawi_student_attendance = df_malawi['_fact_student_attendance']\n",
    "\n",
    "df_malawi_students,df_malawi_reading_result,df_malawi_student_registrations,df_malawi_student_attendance,df_malawi_attendance_rate = PrepData(df_malawi_students,df_malawi_reading_result,df_malawi_student_registrations,df_malawi_student_attendance,4)\n",
    "\n",
    "\n",
    "\n"
   ]
  },
  {
   "cell_type": "code",
   "execution_count": null,
   "metadata": {
    "id": "5uCye-yzm2dN"
   },
   "outputs": [],
   "source": [
    "df_phil_students.head()"
   ]
  },
  {
   "cell_type": "code",
   "execution_count": null,
   "metadata": {
    "id": "fWW85XHolgxg"
   },
   "outputs": [],
   "source": [
    "df_phil_students.describe()"
   ]
  },
  {
   "cell_type": "code",
   "execution_count": null,
   "metadata": {
    "id": "pK2CyhAtm2pd"
   },
   "outputs": [],
   "source": [
    "df_uganda_students.head()"
   ]
  },
  {
   "cell_type": "code",
   "execution_count": null,
   "metadata": {
    "id": "eUFieECplphl"
   },
   "outputs": [],
   "source": [
    "df_uganda_students.describe()"
   ]
  },
  {
   "cell_type": "code",
   "execution_count": null,
   "metadata": {
    "id": "q-ysLLcdm2xj"
   },
   "outputs": [],
   "source": [
    "df_nigeria_students.head()"
   ]
  },
  {
   "cell_type": "code",
   "execution_count": null,
   "metadata": {
    "id": "vtke8Tpflv3e"
   },
   "outputs": [],
   "source": [
    "df_nigeria_students.describe()"
   ]
  },
  {
   "cell_type": "code",
   "execution_count": null,
   "metadata": {
    "id": "QYucy9oveYmQ"
   },
   "outputs": [],
   "source": [
    "df_malawi_students.head()"
   ]
  },
  {
   "cell_type": "code",
   "execution_count": null,
   "metadata": {
    "id": "_fQNNVtBl8ne"
   },
   "outputs": [],
   "source": [
    "df_malawi_students.describe()"
   ]
  },
  {
   "cell_type": "code",
   "execution_count": null,
   "metadata": {
    "colab": {
     "base_uri": "https://localhost:8080/",
     "height": 424
    },
    "executionInfo": {
     "elapsed": 669,
     "status": "ok",
     "timestamp": 1715258535695,
     "user": {
      "displayName": "Adarsh Doraswamy",
      "userId": "04882581294557933838"
     },
     "user_tz": 240
    },
    "id": "0SW0bqrQqUnE",
    "outputId": "2cede408-a10e-43d4-9aa0-83641e5441e7"
   },
   "outputs": [],
   "source": [
    "df_all_country_students = pd.concat([df_phil_students,df_uganda_students,df_nigeria_students,df_malawi_students]).drop(columns=['LastResult','ResultBaseline','ResultRound1','ResultRound2','ResultRound3','ResultEndline'])\n",
    "df_all_country_students = df_all_country_students[df_all_country_students['ResultProgress'] >= 0]\n",
    "#df_all_country_students['ResultProgress'] = df_all_country_students['ResultProgress'] * 10\n",
    "#df_all_country_students['ResultProgress'] = df_all_country_students['ResultProgress'].astype(int)\n",
    "df_all_country_students"
   ]
  },
  {
   "cell_type": "code",
   "execution_count": null,
   "metadata": {
    "colab": {
     "base_uri": "https://localhost:8080/",
     "height": 424
    },
    "executionInfo": {
     "elapsed": 9,
     "status": "ok",
     "timestamp": 1715258536033,
     "user": {
      "displayName": "Adarsh Doraswamy",
      "userId": "04882581294557933838"
     },
     "user_tz": 240
    },
    "id": "uv702npNTMsQ",
    "outputId": "1fa6dde5-d76e-4375-d960-08addd49114f"
   },
   "outputs": [],
   "source": [
    "df_all_country_students = df_all_country_students.drop_duplicates()\n",
    "df_all_country_students"
   ]
  },
  {
   "cell_type": "code",
   "execution_count": null,
   "metadata": {
    "colab": {
     "base_uri": "https://localhost:8080/"
    },
    "executionInfo": {
     "elapsed": 8,
     "status": "ok",
     "timestamp": 1715258536033,
     "user": {
      "displayName": "Adarsh Doraswamy",
      "userId": "04882581294557933838"
     },
     "user_tz": 240
    },
    "id": "Wzmx_lEpXqkS",
    "outputId": "525b8a68-a858-4b45-fb63-cd0264406e7f"
   },
   "outputs": [],
   "source": [
    "#count of unique students\n",
    "df_all_country_students['ChildrenId'].nunique()"
   ]
  },
  {
   "cell_type": "code",
   "execution_count": null,
   "metadata": {
    "colab": {
     "base_uri": "https://localhost:8080/",
     "height": 424
    },
    "executionInfo": {
     "elapsed": 394,
     "status": "ok",
     "timestamp": 1715258925430,
     "user": {
      "displayName": "Adarsh Doraswamy",
      "userId": "04882581294557933838"
     },
     "user_tz": 240
    },
    "id": "-DPQPnC2ZWxc",
    "outputId": "33c0e759-aae1-494e-d0a3-d6a52d3fde8b"
   },
   "outputs": [],
   "source": [
    "# Count occurrences of each ChildrenId\n",
    "child_id_counts = df_all_country_students['ChildrenId'].value_counts()\n",
    "\n",
    "# Filter child_ids that occur more than once\n",
    "duplicate_child_ids = child_id_counts[child_id_counts > 1].index\n",
    "\n",
    "# Filter rows where child_id is in the list of duplicate_child_ids\n",
    "duplicate_rows = df_all_country_students[df_all_country_students['ChildrenId'].isin(duplicate_child_ids)]\n",
    "\n",
    "duplicate_rows"
   ]
  },
  {
   "cell_type": "code",
   "execution_count": null,
   "metadata": {
    "executionInfo": {
     "elapsed": 316,
     "status": "ok",
     "timestamp": 1715260052499,
     "user": {
      "displayName": "Adarsh Doraswamy",
      "userId": "04882581294557933838"
     },
     "user_tz": 240
    },
    "id": "XMCyo3BIdgWr"
   },
   "outputs": [],
   "source": [
    "#Remove rows where child appers multiple times with different data\n",
    "df_all_country_students = df_all_country_students[~df_all_country_students['ChildrenId'].isin(duplicate_child_ids)]"
   ]
  },
  {
   "cell_type": "code",
   "execution_count": null,
   "metadata": {
    "colab": {
     "base_uri": "https://localhost:8080/",
     "height": 542
    },
    "executionInfo": {
     "elapsed": 454,
     "status": "ok",
     "timestamp": 1715260060289,
     "user": {
      "displayName": "Adarsh Doraswamy",
      "userId": "04882581294557933838"
     },
     "user_tz": 240
    },
    "id": "qhBtfu015S-q",
    "outputId": "8eb934be-a879-475c-bf7e-3934707c5791"
   },
   "outputs": [],
   "source": [
    "fig = px.histogram(df_all_country_students, x='ResultProgress', nbins=7, title='Distribution of Values')\n",
    "fig"
   ]
  },
  {
   "cell_type": "code",
   "execution_count": null,
   "metadata": {
    "colab": {
     "base_uri": "https://localhost:8080/"
    },
    "executionInfo": {
     "elapsed": 7,
     "status": "ok",
     "timestamp": 1715260060683,
     "user": {
      "displayName": "Adarsh Doraswamy",
      "userId": "04882581294557933838"
     },
     "user_tz": 240
    },
    "id": "69yqVfmg0_rj",
    "outputId": "2bea89fa-68f0-4b43-e80a-eece49dc3318"
   },
   "outputs": [],
   "source": [
    "df_all_country_students.ResultProgress.unique()"
   ]
  },
  {
   "cell_type": "code",
   "execution_count": null,
   "metadata": {
    "executionInfo": {
     "elapsed": 4,
     "status": "ok",
     "timestamp": 1715260060683,
     "user": {
      "displayName": "Adarsh Doraswamy",
      "userId": "04882581294557933838"
     },
     "user_tz": 240
    },
    "id": "vju-F4DRxn-E"
   },
   "outputs": [],
   "source": [
    "#ML Stuff\n",
    "\n",
    "#pre proccessing\n",
    "\n",
    "X = df_all_country_students.drop(['ChildrenId','ResultProgress'], axis=1)\n",
    "y = df_all_country_students['ResultProgress'].apply(lambda x: math.ceil(x))\n",
    "scaler = StandardScaler()\n",
    "X_scaled = scaler.fit_transform(X)\n",
    "\n",
    "X_train, X_temp, y_train, y_temp = train_test_split(X, y, test_size=0.2, random_state=42)\n",
    "X_valid, X_test, y_valid, y_test = train_test_split(X_temp, y_temp, test_size=0.5, random_state=42)"
   ]
  },
  {
   "cell_type": "code",
   "execution_count": null,
   "metadata": {
    "executionInfo": {
     "elapsed": 4,
     "status": "ok",
     "timestamp": 1715260060683,
     "user": {
      "displayName": "Adarsh Doraswamy",
      "userId": "04882581294557933838"
     },
     "user_tz": 240
    },
    "id": "UH0V1G7E3rOR"
   },
   "outputs": [],
   "source": []
  },
  {
   "cell_type": "code",
   "execution_count": null,
   "metadata": {
    "executionInfo": {
     "elapsed": 4,
     "status": "ok",
     "timestamp": 1715260060683,
     "user": {
      "displayName": "Adarsh Doraswamy",
      "userId": "04882581294557933838"
     },
     "user_tz": 240
    },
    "id": "t6EA3s-50-xd"
   },
   "outputs": [],
   "source": []
  },
  {
   "cell_type": "code",
   "execution_count": null,
   "metadata": {
    "executionInfo": {
     "elapsed": 348,
     "status": "ok",
     "timestamp": 1715260061028,
     "user": {
      "displayName": "Adarsh Doraswamy",
      "userId": "04882581294557933838"
     },
     "user_tz": 240
    },
    "id": "uy1wBc8nz0Nt"
   },
   "outputs": [],
   "source": [
    "#Logistic Regression\n",
    "clf = LogisticRegression(random_state=0).fit(X_train, y_train)"
   ]
  },
  {
   "cell_type": "code",
   "execution_count": null,
   "metadata": {
    "colab": {
     "base_uri": "https://localhost:8080/"
    },
    "executionInfo": {
     "elapsed": 32,
     "status": "ok",
     "timestamp": 1715260061028,
     "user": {
      "displayName": "Adarsh Doraswamy",
      "userId": "04882581294557933838"
     },
     "user_tz": 240
    },
    "id": "Md5DA0Gm0Q97",
    "outputId": "2f5b5210-7463-481c-e52b-bafc31cf669b"
   },
   "outputs": [],
   "source": [
    "clf.score(X_test, y_test.apply(lambda x: math.ceil(x)))"
   ]
  },
  {
   "cell_type": "code",
   "execution_count": null,
   "metadata": {
    "colab": {
     "base_uri": "https://localhost:8080/",
     "height": 300
    },
    "executionInfo": {
     "elapsed": 27,
     "status": "ok",
     "timestamp": 1715260061028,
     "user": {
      "displayName": "Adarsh Doraswamy",
      "userId": "04882581294557933838"
     },
     "user_tz": 240
    },
    "id": "lA_geo5X0RCz",
    "outputId": "e7235c03-56e1-4502-8f37-db24efcb683a"
   },
   "outputs": [],
   "source": [
    "coef = clf.coef_[0]\n",
    "odds = np.exp(clf.coef_[0])\n",
    "pd.DataFrame(coef,\n",
    "             pd.DataFrame(X_scaled,columns = X.columns).columns,\n",
    "             columns=['coef'])\\\n",
    "            .sort_values(by='coef', ascending=False)"
   ]
  },
  {
   "cell_type": "code",
   "execution_count": null,
   "metadata": {
    "colab": {
     "base_uri": "https://localhost:8080/",
     "height": 300
    },
    "executionInfo": {
     "elapsed": 27,
     "status": "ok",
     "timestamp": 1715260061029,
     "user": {
      "displayName": "Adarsh Doraswamy",
      "userId": "04882581294557933838"
     },
     "user_tz": 240
    },
    "id": "nbC_e0Cn0RJ7",
    "outputId": "ba099574-4dc2-4ca8-b810-f666f712f235"
   },
   "outputs": [],
   "source": [
    "pd.DataFrame(odds,\n",
    "             X.columns,\n",
    "             columns=['coef'])\\\n",
    "            .sort_values(by='coef', ascending=False)"
   ]
  },
  {
   "cell_type": "code",
   "execution_count": null,
   "metadata": {
    "colab": {
     "base_uri": "https://localhost:8080/"
    },
    "executionInfo": {
     "elapsed": 26,
     "status": "ok",
     "timestamp": 1715260061029,
     "user": {
      "displayName": "Adarsh Doraswamy",
      "userId": "04882581294557933838"
     },
     "user_tz": 240
    },
    "id": "nXlXuOQuLBal",
    "outputId": "039ff67f-4baa-43b1-894e-4116f27fa23c"
   },
   "outputs": [],
   "source": [
    "# Making predictions on the validation set\n",
    "y_valid_pred = clf.predict(X_valid)\n",
    "# Making predictions on the test data\n",
    "y_test_pred = clf.predict(X_test)\n",
    "# Calculating the accuracy of the model on the validation set\n",
    "valid_accuracy = accuracy_score(y_valid, y_valid_pred)\n",
    "print(\"Validation Accuracy:\", valid_accuracy)\n",
    "# Calculating the accuracy of the model on the test set\n",
    "test_accuracy = accuracy_score(y_test, y_test_pred)\n",
    "print(\"Test Accuracy:\", test_accuracy)\n",
    "\n",
    "\n",
    "# Calculate the confusion matrix\n",
    "y_true = y_test  # True labels (ground truth)\n",
    "y_pred = y_test_pred  # Predicted labels from your model\n",
    "confusion = confusion_matrix(y_true, y_pred)\n",
    "TP, TN, FP, FN = confusion[1, 1], confusion[0, 0], confusion[0, 1], confusion[1, 0]\n",
    "print(\"True Possitive: \" + str(TP))\n",
    "print(\"False Possitive: \" + str(FP))\n",
    "print(\"True Negative: \" + str(TN))\n",
    "print(\"False Negative: \" + str(FN))"
   ]
  },
  {
   "cell_type": "code",
   "execution_count": null,
   "metadata": {
    "executionInfo": {
     "elapsed": 25,
     "status": "ok",
     "timestamp": 1715260061030,
     "user": {
      "displayName": "Adarsh Doraswamy",
      "userId": "04882581294557933838"
     },
     "user_tz": 240
    },
    "id": "Q-f4Y6CrSTU7"
   },
   "outputs": [],
   "source": []
  },
  {
   "cell_type": "code",
   "execution_count": null,
   "metadata": {
    "colab": {
     "base_uri": "https://localhost:8080/",
     "height": 564
    },
    "executionInfo": {
     "elapsed": 504,
     "status": "ok",
     "timestamp": 1715260061509,
     "user": {
      "displayName": "Adarsh Doraswamy",
      "userId": "04882581294557933838"
     },
     "user_tz": 240
    },
    "id": "WAhdpuoeSEIV",
    "outputId": "1a47b879-e41a-4e3b-f206-170c36e2f3f8"
   },
   "outputs": [],
   "source": [
    "# Plot confusion matrix as heatmap\n",
    "plt.figure(figsize=(8, 6))\n",
    "sns.heatmap(confusion, annot=True, fmt='d', cmap='Reds', cbar=False)\n",
    "plt.title('Confusion Matrix')\n",
    "plt.xlabel('Predicted Labels')\n",
    "plt.ylabel('True Labels')\n",
    "plt.show()"
   ]
  },
  {
   "cell_type": "code",
   "execution_count": null,
   "metadata": {
    "executionInfo": {
     "elapsed": 3045,
     "status": "ok",
     "timestamp": 1715260064549,
     "user": {
      "displayName": "Adarsh Doraswamy",
      "userId": "04882581294557933838"
     },
     "user_tz": 240
    },
    "id": "uV3KJDH9ZFxN"
   },
   "outputs": [],
   "source": [
    "# Creating a Random Forest classifier\n",
    "rf_classifier = RandomForestClassifier(n_estimators=100, random_state=42)\n",
    "\n",
    "# Training the classifier on the training data\n",
    "rf_classifier.fit(X_train, y_train)\n",
    "\n",
    "# Making predictions on the validation set\n",
    "y_valid_pred = rf_classifier.predict(X_valid)"
   ]
  },
  {
   "cell_type": "code",
   "execution_count": null,
   "metadata": {
    "colab": {
     "base_uri": "https://localhost:8080/"
    },
    "executionInfo": {
     "elapsed": 12,
     "status": "ok",
     "timestamp": 1715260064549,
     "user": {
      "displayName": "Adarsh Doraswamy",
      "userId": "04882581294557933838"
     },
     "user_tz": 240
    },
    "id": "s9JU-K0SZV5l",
    "outputId": "ffc19727-e90c-4a43-d76e-fd0cf633c051"
   },
   "outputs": [],
   "source": [
    "# Calculating the accuracy of the model on the validation set\n",
    "valid_accuracy = accuracy_score(y_valid, y_valid_pred)\n",
    "print(\"Validation Accuracy:\", valid_accuracy)"
   ]
  },
  {
   "cell_type": "code",
   "execution_count": null,
   "metadata": {
    "colab": {
     "base_uri": "https://localhost:8080/"
    },
    "executionInfo": {
     "elapsed": 12,
     "status": "ok",
     "timestamp": 1715260064550,
     "user": {
      "displayName": "Adarsh Doraswamy",
      "userId": "04882581294557933838"
     },
     "user_tz": 240
    },
    "id": "FRb8rBnkZrJW",
    "outputId": "c6e442c6-f5b0-4061-f31e-1b75562fcf23"
   },
   "outputs": [],
   "source": [
    "# Making predictions on the test data\n",
    "y_test_pred = rf_classifier.predict(X_test)\n",
    "# Calculating the accuracy of the model on the test set\n",
    "test_accuracy = accuracy_score(y_test, y_test_pred)\n",
    "print(\"Test Accuracy:\", test_accuracy)"
   ]
  },
  {
   "cell_type": "code",
   "execution_count": null,
   "metadata": {
    "executionInfo": {
     "elapsed": 9,
     "status": "ok",
     "timestamp": 1715260064550,
     "user": {
      "displayName": "Adarsh Doraswamy",
      "userId": "04882581294557933838"
     },
     "user_tz": 240
    },
    "id": "7bDPjPpjddqD"
   },
   "outputs": [],
   "source": []
  },
  {
   "cell_type": "code",
   "execution_count": null,
   "metadata": {
    "executionInfo": {
     "elapsed": 9,
     "status": "ok",
     "timestamp": 1715260064550,
     "user": {
      "displayName": "Adarsh Doraswamy",
      "userId": "04882581294557933838"
     },
     "user_tz": 240
    },
    "id": "Hw6p0oDCcVU6"
   },
   "outputs": [],
   "source": [
    "#\n",
    "# Choose one of the decision trees from the forest (e.g., the first one)\n",
    "tree_index = 0\n",
    "\n",
    "# Plot the selected tree\n",
    "#plt.figure()\n",
    "#plot_tree(rf_classifier.estimators_[tree_index], feature_names=X.columns, class_names=['0', '1'], filled=True)\n",
    "#plt.show()"
   ]
  },
  {
   "cell_type": "code",
   "execution_count": null,
   "metadata": {
    "colab": {
     "base_uri": "https://localhost:8080/"
    },
    "executionInfo": {
     "elapsed": 8,
     "status": "ok",
     "timestamp": 1715260064550,
     "user": {
      "displayName": "Adarsh Doraswamy",
      "userId": "04882581294557933838"
     },
     "user_tz": 240
    },
    "id": "jmDXDPG3nCKN",
    "outputId": "9c892662-31ae-4c67-8103-52ca1786fd9b"
   },
   "outputs": [],
   "source": [
    "y_true = y_test  # True labels (ground truth)\n",
    "y_pred = y_test_pred  # Predicted labels from your model\n",
    "\n",
    "# Calculate the confusion matrix\n",
    "confusion = confusion_matrix(y_true, y_pred)\n",
    "TP, TN, FP, FN = confusion[1, 1], confusion[0, 0], confusion[0, 1], confusion[1, 0]\n",
    "print(\"True Possitive: \" + str(TP))\n",
    "print(\"False Possitive: \" + str(FP))\n",
    "print(\"True Negative: \" + str(TN))\n",
    "print(\"False Negative: \" + str(FN))"
   ]
  },
  {
   "cell_type": "code",
   "execution_count": null,
   "metadata": {
    "colab": {
     "base_uri": "https://localhost:8080/",
     "height": 564
    },
    "executionInfo": {
     "elapsed": 666,
     "status": "ok",
     "timestamp": 1715260065210,
     "user": {
      "displayName": "Adarsh Doraswamy",
      "userId": "04882581294557933838"
     },
     "user_tz": 240
    },
    "id": "mvEG2bKBSo_Q",
    "outputId": "8f648338-3810-45d9-fba3-b6a6266eb6a0"
   },
   "outputs": [],
   "source": [
    "# Plot confusion matrix as heatmap\n",
    "plt.figure(figsize=(8, 6))\n",
    "sns.heatmap(confusion, annot=True, fmt='d', cmap='Reds', cbar=False)\n",
    "plt.title('Confusion Matrix')\n",
    "plt.xlabel('Predicted Labels')\n",
    "plt.ylabel('True Labels')\n",
    "plt.show()"
   ]
  },
  {
   "cell_type": "code",
   "execution_count": null,
   "metadata": {
    "colab": {
     "base_uri": "https://localhost:8080/",
     "height": 883
    },
    "executionInfo": {
     "elapsed": 11,
     "status": "ok",
     "timestamp": 1715260065211,
     "user": {
      "displayName": "Adarsh Doraswamy",
      "userId": "04882581294557933838"
     },
     "user_tz": 240
    },
    "id": "ti6UfNfwdepH",
    "outputId": "4a71d7b5-7fc3-4ab3-e104-9c17d38d2300"
   },
   "outputs": [],
   "source": [
    "\n",
    "feature_names = X.columns\n",
    "\n",
    "importances = rf_classifier.feature_importances_\n",
    "\n",
    "# Sort feature importances in descending order\n",
    "indices = np.argsort(importances)[::-1]\n",
    "\n",
    "# Print the feature ranking\n",
    "print(\"Feature ranking:\")\n",
    "for f in range(X.shape[1]):\n",
    "    print(\"%d. Feature %s (%f)\" % (f + 1, feature_names[indices[f]], importances[indices[f]]))\n",
    "\n",
    "# Plot the feature importances\n",
    "plt.figure(figsize=(10, 6))\n",
    "plt.title(\"Feature importances\")\n",
    "plt.bar(range(X.shape[1]), importances[indices], color=\"b\", align=\"center\")\n",
    "plt.xticks(range(X.shape[1]), feature_names[indices], rotation=90)  # Rotate labels for better visibility\n",
    "plt.xlim([-1, X.shape[1]])\n",
    "plt.xlabel(\"Feature\")\n",
    "plt.ylabel(\"Importance\")\n",
    "plt.show()\n",
    "\n"
   ]
  },
  {
   "cell_type": "code",
   "execution_count": null,
   "metadata": {
    "executionInfo": {
     "elapsed": 8,
     "status": "ok",
     "timestamp": 1715260065211,
     "user": {
      "displayName": "Adarsh Doraswamy",
      "userId": "04882581294557933838"
     },
     "user_tz": 240
    },
    "id": "gvcYvAJrj0kE"
   },
   "outputs": [],
   "source": []
  },
  {
   "cell_type": "code",
   "execution_count": null,
   "metadata": {
    "colab": {
     "base_uri": "https://localhost:8080/"
    },
    "executionInfo": {
     "elapsed": 29975,
     "status": "ok",
     "timestamp": 1715260095179,
     "user": {
      "displayName": "Adarsh Doraswamy",
      "userId": "04882581294557933838"
     },
     "user_tz": 240
    },
    "id": "RNkXGDWh0RLI",
    "outputId": "6d240269-7071-46a1-94b2-caabe355f886"
   },
   "outputs": [],
   "source": [
    "#Neural Net\n",
    "class ReadingChangePredictionModel(nn.Module):\n",
    "    def __init__(self, input_size):\n",
    "        super(ReadingChangePredictionModel, self).__init__()\n",
    "        self.fc1 = nn.Linear(input_size, 64)\n",
    "        self.fc2 = nn.Linear(64, 32)\n",
    "        self.fc3 = nn.Linear(32, 1)\n",
    "        self.sigmoid = nn.Sigmoid()\n",
    "\n",
    "    def forward(self, x):\n",
    "        x = torch.relu(self.fc1(x))\n",
    "        x = torch.relu(self.fc2(x))\n",
    "        x = self.fc3(x)\n",
    "        x = self.sigmoid(x)\n",
    "        return x\n",
    "\n",
    "# Initialize the model\n",
    "input_size = X_train.shape[1]\n",
    "model = ReadingChangePredictionModel(input_size)\n",
    "\n",
    "criterion = nn.BCELoss()  # Binary Cross-Entropy Loss\n",
    "optimizer = optim.Adam(model.parameters(), lr=0.001)\n",
    "\n",
    "epochs = 800\n",
    "for epoch in range(epochs):\n",
    "    optimizer.zero_grad()\n",
    "    outputs = model(torch.Tensor(np.array(X_train)).float())\n",
    "    loss = criterion(outputs.squeeze(), torch.Tensor(np.array(y_train.squeeze())).float())\n",
    "    loss.backward()\n",
    "    optimizer.step()\n",
    "    print(f'Epoch [{epoch + 1}/{epochs}], Loss: {loss.item():.4f}')"
   ]
  },
  {
   "cell_type": "code",
   "execution_count": null,
   "metadata": {
    "colab": {
     "base_uri": "https://localhost:8080/"
    },
    "executionInfo": {
     "elapsed": 63,
     "status": "ok",
     "timestamp": 1715260095180,
     "user": {
      "displayName": "Adarsh Doraswamy",
      "userId": "04882581294557933838"
     },
     "user_tz": 240
    },
    "id": "j8Z817Hp4-Ib",
    "outputId": "f5ec86af-22cf-4e8a-aa68-186a4bcb8221"
   },
   "outputs": [],
   "source": [
    "# Evaluate your model on the test data\n",
    "with torch.no_grad():\n",
    "    test_inputs = torch.Tensor(np.array(X_valid)).float()\n",
    "    test_outputs = model(test_inputs)\n",
    "    predictions = (test_outputs > 0.5).float()\n",
    "    y_test_df = pd.DataFrame({'ResultProgress': y_valid})\n",
    "    y_test_tensor = torch.Tensor(y_test_df['ResultProgress'].values).view(-1, 1).float()\n",
    "    accuracy = (predictions == y_test_tensor).sum().item() / len(y_test)\n",
    "    print(f'Validation Accuracy: {accuracy:.4f}')"
   ]
  },
  {
   "cell_type": "code",
   "execution_count": null,
   "metadata": {
    "colab": {
     "base_uri": "https://localhost:8080/"
    },
    "executionInfo": {
     "elapsed": 50,
     "status": "ok",
     "timestamp": 1715260095186,
     "user": {
      "displayName": "Adarsh Doraswamy",
      "userId": "04882581294557933838"
     },
     "user_tz": 240
    },
    "id": "qmw78n1e0RMT",
    "outputId": "1e475854-29ef-4f0b-9a35-d47ab5cb7e0c"
   },
   "outputs": [],
   "source": [
    "# Evaluate your model on the test data\n",
    "with torch.no_grad():\n",
    "    test_inputs = torch.Tensor(np.array(X_test)).float()\n",
    "    test_outputs = model(test_inputs)\n",
    "    predictions = (test_outputs > 0.5).float()\n",
    "    y_test_df = pd.DataFrame({'ResultProgress': y_test})\n",
    "    y_test_tensor = torch.Tensor(y_test_df['ResultProgress'].values).view(-1, 1).float()\n",
    "    accuracy = (predictions == y_test_tensor).sum().item() / len(y_test)\n",
    "    print(f'Test Accuracy: {accuracy:.4f}')\n"
   ]
  },
  {
   "cell_type": "code",
   "execution_count": null,
   "metadata": {
    "executionInfo": {
     "elapsed": 48,
     "status": "ok",
     "timestamp": 1715260095186,
     "user": {
      "displayName": "Adarsh Doraswamy",
      "userId": "04882581294557933838"
     },
     "user_tz": 240
    },
    "id": "xW10vhaOoJeK"
   },
   "outputs": [],
   "source": []
  },
  {
   "cell_type": "code",
   "execution_count": null,
   "metadata": {
    "executionInfo": {
     "elapsed": 48,
     "status": "ok",
     "timestamp": 1715260095186,
     "user": {
      "displayName": "Adarsh Doraswamy",
      "userId": "04882581294557933838"
     },
     "user_tz": 240
    },
    "id": "yLV8wqWP0hDd"
   },
   "outputs": [],
   "source": [
    "y_true = y_test  # True labels (ground truth)\n",
    "y_pred = predictions  # Predicted labels from your model\n",
    "\n",
    "# Calculate the confusion matrix\n",
    "confusion = confusion_matrix(y_true, y_pred)\n",
    "TP, TN, FP, FN = confusion[1, 1], confusion[0, 0], confusion[0, 1], confusion[1, 0]"
   ]
  },
  {
   "cell_type": "code",
   "execution_count": null,
   "metadata": {
    "colab": {
     "base_uri": "https://localhost:8080/"
    },
    "executionInfo": {
     "elapsed": 48,
     "status": "ok",
     "timestamp": 1715260095186,
     "user": {
      "displayName": "Adarsh Doraswamy",
      "userId": "04882581294557933838"
     },
     "user_tz": 240
    },
    "id": "nkzs6DGt0nuS",
    "outputId": "f8e0138d-15b2-486c-9daf-7a17a66f1bc0"
   },
   "outputs": [],
   "source": [
    "print(\"True Possitive: \" + str(TP))\n",
    "print(\"False Possitive: \" + str(FP))\n",
    "print(\"True Negative: \" + str(TN))\n",
    "print(\"False Negative: \" + str(FN))"
   ]
  },
  {
   "cell_type": "code",
   "execution_count": null,
   "metadata": {
    "colab": {
     "base_uri": "https://localhost:8080/",
     "height": 564
    },
    "executionInfo": {
     "elapsed": 44,
     "status": "ok",
     "timestamp": 1715260095186,
     "user": {
      "displayName": "Adarsh Doraswamy",
      "userId": "04882581294557933838"
     },
     "user_tz": 240
    },
    "id": "4Xp3uEwUS8cX",
    "outputId": "890234b5-867d-421f-a853-92c03f3c09f3"
   },
   "outputs": [],
   "source": [
    "# Plot confusion matrix as heatmap\n",
    "plt.figure(figsize=(8, 6))\n",
    "sns.heatmap(confusion, annot=True, fmt='d', cmap='Reds', cbar=False)\n",
    "plt.title('Confusion Matrix')\n",
    "plt.xlabel('Predicted Labels')\n",
    "plt.ylabel('True Labels')\n",
    "plt.show()"
   ]
  },
  {
   "cell_type": "markdown",
   "metadata": {
    "id": "wmqtJAMXz_Om"
   },
   "source": [
    "Re-Doing analysis withoght total attendance"
   ]
  },
  {
   "cell_type": "code",
   "execution_count": null,
   "metadata": {
    "executionInfo": {
     "elapsed": 36,
     "status": "ok",
     "timestamp": 1715260095186,
     "user": {
      "displayName": "Adarsh Doraswamy",
      "userId": "04882581294557933838"
     },
     "user_tz": 240
    },
    "id": "OGGkPgHjz-fw"
   },
   "outputs": [],
   "source": [
    "#ML Stuff\n",
    "\n",
    "#pre proccessing\n",
    "\n",
    "X = df_all_country_students.drop(['ChildrenId','ResultProgress','AttendanceRate'], axis=1)\n",
    "y = df_all_country_students['ResultProgress'].apply(lambda x: math.ceil(x))\n",
    "scaler = StandardScaler()\n",
    "X_scaled = scaler.fit_transform(X)\n",
    "\n",
    "X_train, X_temp, y_train, y_temp = train_test_split(X, y, test_size=0.2, random_state=42)\n",
    "X_valid, X_test, y_valid, y_test = train_test_split(X_temp, y_temp, test_size=0.5, random_state=42)"
   ]
  },
  {
   "cell_type": "code",
   "execution_count": null,
   "metadata": {
    "colab": {
     "base_uri": "https://localhost:8080/"
    },
    "executionInfo": {
     "elapsed": 467,
     "status": "ok",
     "timestamp": 1715260095618,
     "user": {
      "displayName": "Adarsh Doraswamy",
      "userId": "04882581294557933838"
     },
     "user_tz": 240
    },
    "id": "euCUUwdvz-jN",
    "outputId": "2d582c5b-b9c4-49a8-e2e3-66f4e06b1f57"
   },
   "outputs": [],
   "source": [
    "#Logistic Regression\n",
    "clf = LogisticRegression(random_state=0).fit(X_train, y_train)\n",
    "clf_score = clf.score(X_test, y_test.apply(lambda x: math.ceil(x)))\n",
    "print(\"clf scroe is \", clf_score)\n",
    "coef = clf.coef_[0]\n",
    "odds = np.exp(clf.coef_[0])\n",
    "\n"
   ]
  },
  {
   "cell_type": "code",
   "execution_count": null,
   "metadata": {
    "colab": {
     "base_uri": "https://localhost:8080/",
     "height": 269
    },
    "executionInfo": {
     "elapsed": 7,
     "status": "ok",
     "timestamp": 1715260095618,
     "user": {
      "displayName": "Adarsh Doraswamy",
      "userId": "04882581294557933838"
     },
     "user_tz": 240
    },
    "id": "Pa8qPANn0urR",
    "outputId": "331b4637-ca0f-4388-9df1-1db35713cb42"
   },
   "outputs": [],
   "source": [
    "pd.DataFrame(coef,\n",
    "             pd.DataFrame(X_scaled,columns = X.columns).columns,\n",
    "             columns=['coef'])\\\n",
    "            .sort_values(by='coef', ascending=False)"
   ]
  },
  {
   "cell_type": "code",
   "execution_count": null,
   "metadata": {
    "colab": {
     "base_uri": "https://localhost:8080/",
     "height": 269
    },
    "executionInfo": {
     "elapsed": 7,
     "status": "ok",
     "timestamp": 1715260095619,
     "user": {
      "displayName": "Adarsh Doraswamy",
      "userId": "04882581294557933838"
     },
     "user_tz": 240
    },
    "id": "eag_iBRz0tgX",
    "outputId": "13226826-e27c-4a0b-f90b-9c839b4caefd"
   },
   "outputs": [],
   "source": [
    "pd.DataFrame(odds,\n",
    "             X.columns,\n",
    "             columns=['coef'])\\\n",
    "            .sort_values(by='coef', ascending=False)"
   ]
  },
  {
   "cell_type": "code",
   "execution_count": null,
   "metadata": {
    "executionInfo": {
     "elapsed": 15558,
     "status": "ok",
     "timestamp": 1715260111171,
     "user": {
      "displayName": "Adarsh Doraswamy",
      "userId": "04882581294557933838"
     },
     "user_tz": 240
    },
    "id": "gEWJECIo0xJW"
   },
   "outputs": [],
   "source": [
    "# Creating a Random Forest classifier\n",
    "rf_classifier = RandomForestClassifier(n_estimators=500, random_state=42)\n",
    "\n",
    "# Training the classifier on the training data\n",
    "rf_classifier.fit(X_train, y_train)\n",
    "\n",
    "# Making predictions on the validation set\n",
    "y_valid_pred = rf_classifier.predict(X_valid)"
   ]
  },
  {
   "cell_type": "code",
   "execution_count": null,
   "metadata": {
    "colab": {
     "base_uri": "https://localhost:8080/"
    },
    "executionInfo": {
     "elapsed": 15,
     "status": "ok",
     "timestamp": 1715260111178,
     "user": {
      "displayName": "Adarsh Doraswamy",
      "userId": "04882581294557933838"
     },
     "user_tz": 240
    },
    "id": "IzGDUemQ00RF",
    "outputId": "ad26cc50-9c2b-4f96-de2d-a3c4fe61fb99"
   },
   "outputs": [],
   "source": [
    "# Calculating the accuracy of the model on the validation set\n",
    "valid_accuracy = accuracy_score(y_valid, y_valid_pred)\n",
    "print(\"Validation Accuracy:\", valid_accuracy)"
   ]
  },
  {
   "cell_type": "code",
   "execution_count": null,
   "metadata": {
    "colab": {
     "base_uri": "https://localhost:8080/"
    },
    "executionInfo": {
     "elapsed": 520,
     "status": "ok",
     "timestamp": 1715260111686,
     "user": {
      "displayName": "Adarsh Doraswamy",
      "userId": "04882581294557933838"
     },
     "user_tz": 240
    },
    "id": "xfX17OAI03TZ",
    "outputId": "44aac2a2-7a54-471d-8d4d-326ad6cd595c"
   },
   "outputs": [],
   "source": [
    "# Making predictions on the test data\n",
    "y_test_pred = rf_classifier.predict(X_test)\n",
    "# Calculating the accuracy of the model on the test set\n",
    "test_accuracy = accuracy_score(y_test, y_test_pred)\n",
    "print(\"Test Accuracy:\", test_accuracy)\n",
    "y_true = y_test  # True labels (ground truth)\n",
    "y_pred = y_test_pred  # Predicted labels from your model\n",
    "\n",
    "# Calculate the confusion matrix\n",
    "confusion = confusion_matrix(y_true, y_pred)\n",
    "TP, TN, FP, FN = confusion[1, 1], confusion[0, 0], confusion[0, 1], confusion[1, 0]\n",
    "print(\"True Possitive: \" + str(TP))\n",
    "print(\"False Possitive: \" + str(FP))\n",
    "print(\"True Negative: \" + str(TN))\n",
    "print(\"False Negative: \" + str(FN))"
   ]
  },
  {
   "cell_type": "code",
   "execution_count": null,
   "metadata": {
    "colab": {
     "base_uri": "https://localhost:8080/",
     "height": 564
    },
    "executionInfo": {
     "elapsed": 562,
     "status": "ok",
     "timestamp": 1715260112245,
     "user": {
      "displayName": "Adarsh Doraswamy",
      "userId": "04882581294557933838"
     },
     "user_tz": 240
    },
    "id": "igZbdLsVTV_T",
    "outputId": "3dbf7504-f024-4e53-b619-929e9a7d632a"
   },
   "outputs": [],
   "source": [
    "# Plot confusion matrix as heatmap\n",
    "plt.figure(figsize=(8, 6))\n",
    "sns.heatmap(confusion, annot=True, fmt='d', cmap='Reds', cbar=False)\n",
    "plt.title('Confusion Matrix')\n",
    "plt.xlabel('Predicted Labels')\n",
    "plt.ylabel('True Labels')\n",
    "plt.show()"
   ]
  },
  {
   "cell_type": "code",
   "execution_count": null,
   "metadata": {
    "colab": {
     "base_uri": "https://localhost:8080/",
     "height": 865
    },
    "executionInfo": {
     "elapsed": 7,
     "status": "ok",
     "timestamp": 1715260112245,
     "user": {
      "displayName": "Adarsh Doraswamy",
      "userId": "04882581294557933838"
     },
     "user_tz": 240
    },
    "id": "1E6VXCp_fGr6",
    "outputId": "7f7b1c37-e4ff-4750-d0a2-e51b8badf7f0"
   },
   "outputs": [],
   "source": [
    "\n",
    "feature_names = X.columns\n",
    "\n",
    "importances = rf_classifier.feature_importances_\n",
    "\n",
    "# Sort feature importances in descending order\n",
    "indices = np.argsort(importances)[::-1]\n",
    "\n",
    "# Print the feature ranking\n",
    "print(\"Feature ranking:\")\n",
    "for f in range(X.shape[1]):\n",
    "    print(\"%d. Feature %s (%f)\" % (f + 1, feature_names[indices[f]], importances[indices[f]]))\n",
    "\n",
    "# Plot the feature importances\n",
    "plt.figure(figsize=(10, 6))\n",
    "plt.title(\"Feature importances\")\n",
    "plt.bar(range(X.shape[1]), importances[indices], color=\"b\", align=\"center\")\n",
    "plt.xticks(range(X.shape[1]), feature_names[indices], rotation=90)  # Rotate labels for better visibility\n",
    "plt.xlim([-1, X.shape[1]])\n",
    "plt.xlabel(\"Feature\")\n",
    "plt.ylabel(\"Importance\")\n",
    "plt.show()"
   ]
  },
  {
   "cell_type": "code",
   "execution_count": null,
   "metadata": {
    "colab": {
     "base_uri": "https://localhost:8080/"
    },
    "executionInfo": {
     "elapsed": 28067,
     "status": "ok",
     "timestamp": 1715260140307,
     "user": {
      "displayName": "Adarsh Doraswamy",
      "userId": "04882581294557933838"
     },
     "user_tz": 240
    },
    "id": "RtWFnEIm06Qn",
    "outputId": "339b082d-3b2a-4de9-c943-15ece9d18f28"
   },
   "outputs": [],
   "source": [
    "#Neural Net\n",
    "class ReadingChangePredictionModel(nn.Module):\n",
    "    def __init__(self, input_size):\n",
    "        super(ReadingChangePredictionModel, self).__init__()\n",
    "        self.fc1 = nn.Linear(input_size, 64)\n",
    "        self.fc2 = nn.Linear(64, 32)\n",
    "        self.fc3 = nn.Linear(32, 1)\n",
    "        self.sigmoid = nn.Sigmoid()\n",
    "\n",
    "    def forward(self, x):\n",
    "        x = torch.relu(self.fc1(x))\n",
    "        x = torch.relu(self.fc2(x))\n",
    "        x = self.fc3(x)\n",
    "        x = self.sigmoid(x)\n",
    "        return x\n",
    "\n",
    "# Initialize the model\n",
    "input_size = X_train.shape[1]\n",
    "model = ReadingChangePredictionModel(input_size)\n",
    "\n",
    "criterion = nn.BCELoss()  # Binary Cross-Entropy Loss\n",
    "optimizer = optim.Adam(model.parameters(), lr=0.01)\n",
    "\n",
    "epochs = 800\n",
    "for epoch in range(epochs):\n",
    "    optimizer.zero_grad()\n",
    "    outputs = model(torch.Tensor(np.array(X_train)).float())\n",
    "    loss = criterion(outputs.squeeze(), torch.Tensor(np.array(y_train.squeeze())).float())\n",
    "    loss.backward()\n",
    "    optimizer.step()\n",
    "    print(f'Epoch [{epoch + 1}/{epochs}], Loss: {loss.item():.4f}')"
   ]
  },
  {
   "cell_type": "code",
   "execution_count": null,
   "metadata": {
    "colab": {
     "base_uri": "https://localhost:8080/"
    },
    "executionInfo": {
     "elapsed": 56,
     "status": "ok",
     "timestamp": 1715260140308,
     "user": {
      "displayName": "Adarsh Doraswamy",
      "userId": "04882581294557933838"
     },
     "user_tz": 240
    },
    "id": "bpOH1v271L1w",
    "outputId": "96ea9f0b-662d-4932-afd1-3a9a0d5dd3b2"
   },
   "outputs": [],
   "source": [
    "# Evaluate your model on the test data\n",
    "with torch.no_grad():\n",
    "    test_inputs = torch.Tensor(np.array(X_valid)).float()\n",
    "    test_outputs = model(test_inputs)\n",
    "    predictions = (test_outputs > 0.5).float()\n",
    "    y_test_df = pd.DataFrame({'ResultProgress': y_valid})\n",
    "    y_test_tensor = torch.Tensor(y_test_df['ResultProgress'].values).view(-1, 1).float()\n",
    "    accuracy = (predictions == y_test_tensor).sum().item() / len(y_test)\n",
    "    print(f'Validation Accuracy: {accuracy:.4f}')"
   ]
  },
  {
   "cell_type": "code",
   "execution_count": null,
   "metadata": {
    "colab": {
     "base_uri": "https://localhost:8080/"
    },
    "executionInfo": {
     "elapsed": 934,
     "status": "ok",
     "timestamp": 1715260141218,
     "user": {
      "displayName": "Adarsh Doraswamy",
      "userId": "04882581294557933838"
     },
     "user_tz": 240
    },
    "id": "RdcYYmYX1OSx",
    "outputId": "5871c788-cfb6-43e3-edab-3868d0965436"
   },
   "outputs": [],
   "source": [
    "# Evaluate your model on the test data\n",
    "with torch.no_grad():\n",
    "    test_inputs = torch.Tensor(np.array(X_test)).float()\n",
    "    test_outputs = model(test_inputs)\n",
    "    predictions = (test_outputs > 0.5).float()\n",
    "    y_test_df = pd.DataFrame({'ResultProgress': y_test})\n",
    "    y_test_tensor = torch.Tensor(y_test_df['ResultProgress'].values).view(-1, 1).float()\n",
    "    accuracy = (predictions == y_test_tensor).sum().item() / len(y_test)\n",
    "    print(f'Test Accuracy: {accuracy:.4f}')"
   ]
  },
  {
   "cell_type": "code",
   "execution_count": null,
   "metadata": {
    "executionInfo": {
     "elapsed": 11,
     "status": "ok",
     "timestamp": 1715260141219,
     "user": {
      "displayName": "Adarsh Doraswamy",
      "userId": "04882581294557933838"
     },
     "user_tz": 240
    },
    "id": "JZSrfVjD1QPQ"
   },
   "outputs": [],
   "source": [
    "y_true = y_test  # True labels (ground truth)\n",
    "y_pred = predictions  # Predicted labels from your model\n",
    "\n",
    "# Calculate the confusion matrix\n",
    "confusion = confusion_matrix(y_true, y_pred)\n",
    "TP, TN, FP, FN = confusion[1, 1], confusion[0, 0], confusion[0, 1], confusion[1, 0]"
   ]
  },
  {
   "cell_type": "code",
   "execution_count": null,
   "metadata": {
    "colab": {
     "base_uri": "https://localhost:8080/"
    },
    "executionInfo": {
     "elapsed": 11,
     "status": "ok",
     "timestamp": 1715260141219,
     "user": {
      "displayName": "Adarsh Doraswamy",
      "userId": "04882581294557933838"
     },
     "user_tz": 240
    },
    "id": "FNYvgA081Sup",
    "outputId": "3c05ad98-8a67-45f7-b774-53e12e26c8a3"
   },
   "outputs": [],
   "source": [
    "print(\"True Possitive: \" + str(TP))\n",
    "print(\"False Possitive: \" + str(FP))\n",
    "print(\"True Negative: \" + str(TN))\n",
    "print(\"False Negative: \" + str(FN))"
   ]
  },
  {
   "cell_type": "code",
   "execution_count": null,
   "metadata": {
    "colab": {
     "base_uri": "https://localhost:8080/",
     "height": 564
    },
    "executionInfo": {
     "elapsed": 9,
     "status": "ok",
     "timestamp": 1715260141219,
     "user": {
      "displayName": "Adarsh Doraswamy",
      "userId": "04882581294557933838"
     },
     "user_tz": 240
    },
    "id": "esevnhTFTYkV",
    "outputId": "dd651cb8-a4af-4c67-e31a-5e61eb3334fc"
   },
   "outputs": [],
   "source": [
    "# Plot confusion matrix as heatmap\n",
    "plt.figure(figsize=(8, 6))\n",
    "sns.heatmap(confusion, annot=True, fmt='d', cmap='Reds', cbar=False)\n",
    "plt.title('Confusion Matrix')\n",
    "plt.xlabel('Predicted Labels')\n",
    "plt.ylabel('True Labels')\n",
    "plt.show()"
   ]
  }
 ],
 "metadata": {
  "colab": {
   "authorship_tag": "ABX9TyPc30hxQPGhjbdS91CfyiaB",
   "provenance": []
  },
  "kernelspec": {
   "display_name": "Python 3 (ipykernel)",
   "language": "python",
   "name": "python3"
  },
  "language_info": {
   "codemirror_mode": {
    "name": "ipython",
    "version": 3
   },
   "file_extension": ".py",
   "mimetype": "text/x-python",
   "name": "python",
   "nbconvert_exporter": "python",
   "pygments_lexer": "ipython3",
   "version": "3.12.4"
  }
 },
 "nbformat": 4,
 "nbformat_minor": 4
}
